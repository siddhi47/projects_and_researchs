{
 "cells": [
  {
   "cell_type": "code",
   "execution_count": null,
   "metadata": {},
   "outputs": [],
   "source": [
    "import keras\n",
    "import pandas as pd\n",
    "import warnings\n",
    "warnings.filterwarnings('ignore')\n",
    "\n",
    "%matplotlib inline"
   ]
  },
  {
   "cell_type": "markdown",
   "metadata": {},
   "source": [
    "# Count is used to train"
   ]
  },
  {
   "cell_type": "code",
   "execution_count": null,
   "metadata": {},
   "outputs": [],
   "source": [
    "count = pd.read_csv('excel_files/prepared.csv')"
   ]
  },
  {
   "cell_type": "code",
   "execution_count": null,
   "metadata": {},
   "outputs": [],
   "source": [
    "count['user'] = count.user.astype('category').cat.codes.values\n",
    "count['item'] = count.item.astype('category').cat.codes.values"
   ]
  },
  {
   "cell_type": "code",
   "execution_count": null,
   "metadata": {},
   "outputs": [],
   "source": [
    "count.head()"
   ]
  },
  {
   "cell_type": "code",
   "execution_count": null,
   "metadata": {},
   "outputs": [],
   "source": [
    "df = pd.read_csv('excel_files/diff.csv')"
   ]
  },
  {
   "cell_type": "code",
   "execution_count": null,
   "metadata": {},
   "outputs": [],
   "source": [
    "df.drop(columns=['Unnamed: 0'],inplace=True)\n",
    "df.rename({'fullname_X':'user','product_id':'item'},axis =1, inplace=True)\n",
    "df['nuser'] = df.user.astype('category').cat.codes.values\n",
    "df['nitem'] = df.item.astype('category').cat.codes.values"
   ]
  },
  {
   "cell_type": "markdown",
   "metadata": {},
   "source": [
    "# df is used for mapping only"
   ]
  },
  {
   "cell_type": "code",
   "execution_count": 7,
   "metadata": {
    "scrolled": true
   },
   "outputs": [
    {
     "data": {
      "text/html": [
       "<div>\n",
       "<style scoped>\n",
       "    .dataframe tbody tr th:only-of-type {\n",
       "        vertical-align: middle;\n",
       "    }\n",
       "\n",
       "    .dataframe tbody tr th {\n",
       "        vertical-align: top;\n",
       "    }\n",
       "\n",
       "    .dataframe thead th {\n",
       "        text-align: right;\n",
       "    }\n",
       "</style>\n",
       "<table border=\"1\" class=\"dataframe\">\n",
       "  <thead>\n",
       "    <tr style=\"text-align: right;\">\n",
       "      <th></th>\n",
       "      <th>user</th>\n",
       "      <th>item</th>\n",
       "      <th>product_name</th>\n",
       "      <th>created_day</th>\n",
       "      <th>diff</th>\n",
       "      <th>nuser</th>\n",
       "      <th>nitem</th>\n",
       "    </tr>\n",
       "  </thead>\n",
       "  <tbody>\n",
       "    <tr>\n",
       "      <th>0</th>\n",
       "      <td>255495</td>\n",
       "      <td>7</td>\n",
       "      <td>Send Money</td>\n",
       "      <td>2018-08-06</td>\n",
       "      <td>91</td>\n",
       "      <td>29565</td>\n",
       "      <td>2</td>\n",
       "    </tr>\n",
       "    <tr>\n",
       "      <th>1</th>\n",
       "      <td>359354</td>\n",
       "      <td>200</td>\n",
       "      <td>NT Prepaid Topup</td>\n",
       "      <td>2018-08-06</td>\n",
       "      <td>91</td>\n",
       "      <td>44546</td>\n",
       "      <td>29</td>\n",
       "    </tr>\n",
       "    <tr>\n",
       "      <th>2</th>\n",
       "      <td>429302</td>\n",
       "      <td>200</td>\n",
       "      <td>NT Prepaid Topup</td>\n",
       "      <td>2018-08-06</td>\n",
       "      <td>91</td>\n",
       "      <td>57521</td>\n",
       "      <td>29</td>\n",
       "    </tr>\n",
       "    <tr>\n",
       "      <th>3</th>\n",
       "      <td>402598</td>\n",
       "      <td>15</td>\n",
       "      <td>Ncell Topup</td>\n",
       "      <td>2018-08-06</td>\n",
       "      <td>91</td>\n",
       "      <td>52299</td>\n",
       "      <td>5</td>\n",
       "    </tr>\n",
       "    <tr>\n",
       "      <th>4</th>\n",
       "      <td>483671</td>\n",
       "      <td>200</td>\n",
       "      <td>NT Prepaid Topup</td>\n",
       "      <td>2018-08-06</td>\n",
       "      <td>91</td>\n",
       "      <td>69014</td>\n",
       "      <td>29</td>\n",
       "    </tr>\n",
       "  </tbody>\n",
       "</table>\n",
       "</div>"
      ],
      "text/plain": [
       "     user  item      product_name created_day  diff  nuser  nitem\n",
       "0  255495     7        Send Money  2018-08-06    91  29565      2\n",
       "1  359354   200  NT Prepaid Topup  2018-08-06    91  44546     29\n",
       "2  429302   200  NT Prepaid Topup  2018-08-06    91  57521     29\n",
       "3  402598    15       Ncell Topup  2018-08-06    91  52299      5\n",
       "4  483671   200  NT Prepaid Topup  2018-08-06    91  69014     29"
      ]
     },
     "execution_count": 7,
     "metadata": {},
     "output_type": "execute_result"
    }
   ],
   "source": [
    "df.head()"
   ]
  },
  {
   "cell_type": "markdown",
   "metadata": {},
   "source": [
    "# Create The Dictionery Mapping\n"
   ]
  },
  {
   "cell_type": "code",
   "execution_count": 8,
   "metadata": {},
   "outputs": [],
   "source": [
    "item_dict = dict(zip(df.nitem,df.product_name))\n",
    "user_dict=dict(zip(df.nuser,df.user))"
   ]
  },
  {
   "cell_type": "markdown",
   "metadata": {},
   "source": [
    "# Simple Matrix Factorization\n"
   ]
  },
  {
   "cell_type": "code",
   "execution_count": 9,
   "metadata": {},
   "outputs": [],
   "source": [
    "from sklearn.model_selection import train_test_split\n",
    "train, test = train_test_split(count, test_size=0.2)"
   ]
  },
  {
   "cell_type": "code",
   "execution_count": 10,
   "metadata": {},
   "outputs": [],
   "source": [
    "import keras\n",
    "from IPython.display import SVG\n",
    "from keras.optimizers import Adam\n",
    "from keras.utils.vis_utils import model_to_dot\n",
    "n_users, n_item = len(df.user.unique()), len(df.item.unique())\n",
    "n_latent_factors = 5"
   ]
  },
  {
   "cell_type": "code",
   "execution_count": 11,
   "metadata": {},
   "outputs": [],
   "source": [
    "item_input = keras.layers.Input(shape=[1],name='Item')\n",
    "item_embedding = keras.layers.Embedding(n_item + 1, n_latent_factors, name='item-Embedding')(item_input)\n",
    "item_vec = keras.layers.Flatten(name='FlattenItems')(item_embedding)"
   ]
  },
  {
   "cell_type": "code",
   "execution_count": 12,
   "metadata": {},
   "outputs": [],
   "source": [
    "user_input = keras.layers.Input(shape=[1],name='User')\n",
    "user_vec = keras.layers.Flatten(name='FlattenUsers')(keras.layers.Embedding(n_users + 1, n_latent_factors,name='User-Embedding')(user_input))"
   ]
  },
  {
   "cell_type": "code",
   "execution_count": 18,
   "metadata": {},
   "outputs": [],
   "source": [
    "prod = keras.layers.dot([user_vec, item_vec],axes=1)"
   ]
  },
  {
   "cell_type": "code",
   "execution_count": 19,
   "metadata": {},
   "outputs": [],
   "source": [
    "model = keras.Model([user_input, item_input], prod)\n",
    "model.compile('adam', 'mean_squared_error')"
   ]
  },
  {
   "cell_type": "code",
   "execution_count": 20,
   "metadata": {},
   "outputs": [
    {
     "name": "stdout",
     "output_type": "stream",
     "text": [
      "__________________________________________________________________________________________________\n",
      "Layer (type)                    Output Shape         Param #     Connected to                     \n",
      "==================================================================================================\n",
      "User (InputLayer)               (None, 1)            0                                            \n",
      "__________________________________________________________________________________________________\n",
      "Item (InputLayer)               (None, 1)            0                                            \n",
      "__________________________________________________________________________________________________\n",
      "User-Embedding (Embedding)      (None, 1, 5)         672905      User[0][0]                       \n",
      "__________________________________________________________________________________________________\n",
      "item-Embedding (Embedding)      (None, 1, 5)         1640        Item[0][0]                       \n",
      "__________________________________________________________________________________________________\n",
      "FlattenUsers (Flatten)          (None, 5)            0           User-Embedding[0][0]             \n",
      "__________________________________________________________________________________________________\n",
      "FlattenItems (Flatten)          (None, 5)            0           item-Embedding[0][0]             \n",
      "__________________________________________________________________________________________________\n",
      "dot_2 (Dot)                     (None, 1)            0           FlattenUsers[0][0]               \n",
      "                                                                 FlattenItems[0][0]               \n",
      "==================================================================================================\n",
      "Total params: 674,545\n",
      "Trainable params: 674,545\n",
      "Non-trainable params: 0\n",
      "__________________________________________________________________________________________________\n"
     ]
    }
   ],
   "source": [
    "model.summary()"
   ]
  },
  {
   "cell_type": "code",
   "execution_count": 104,
   "metadata": {},
   "outputs": [
    {
     "data": {
      "text/plain": [
       "<tf.Tensor 'dot_2/ExpandDims:0' shape=(?, 1) dtype=float32>"
      ]
     },
     "execution_count": 104,
     "metadata": {},
     "output_type": "execute_result"
    }
   ],
   "source": [
    "prod"
   ]
  },
  {
   "cell_type": "code",
   "execution_count": 24,
   "metadata": {},
   "outputs": [
    {
     "data": {
      "image/svg+xml": [
       "<svg height=\"264pt\" viewBox=\"0.00 0.00 387.50 264.00\" width=\"388pt\" xmlns=\"http://www.w3.org/2000/svg\" xmlns:xlink=\"http://www.w3.org/1999/xlink\">\n",
       "<g class=\"graph\" id=\"graph0\" transform=\"scale(1 1) rotate(0) translate(4 260)\">\n",
       "<title>G</title>\n",
       "<polygon fill=\"white\" points=\"-4,4 -4,-260 383.5,-260 383.5,4 -4,4\" stroke=\"none\"/>\n",
       "<!-- 2145923485368 -->\n",
       "<g class=\"node\" id=\"node1\"><title>2145923485368</title>\n",
       "<polygon fill=\"none\" points=\"36,-219.5 36,-255.5 146,-255.5 146,-219.5 36,-219.5\" stroke=\"black\"/>\n",
       "<text font-family=\"Times New Roman,serif\" font-size=\"14.00\" text-anchor=\"middle\" x=\"91\" y=\"-233.8\">User: InputLayer</text>\n",
       "</g>\n",
       "<!-- 2145924104880 -->\n",
       "<g class=\"node\" id=\"node3\"><title>2145924104880</title>\n",
       "<polygon fill=\"none\" points=\"0,-146.5 0,-182.5 182,-182.5 182,-146.5 0,-146.5\" stroke=\"black\"/>\n",
       "<text font-family=\"Times New Roman,serif\" font-size=\"14.00\" text-anchor=\"middle\" x=\"91\" y=\"-160.8\">User-Embedding: Embedding</text>\n",
       "</g>\n",
       "<!-- 2145923485368&#45;&gt;2145924104880 -->\n",
       "<g class=\"edge\" id=\"edge1\"><title>2145923485368-&gt;2145924104880</title>\n",
       "<path d=\"M91,-219.313C91,-211.289 91,-201.547 91,-192.569\" fill=\"none\" stroke=\"black\"/>\n",
       "<polygon fill=\"black\" points=\"94.5001,-192.529 91,-182.529 87.5001,-192.529 94.5001,-192.529\" stroke=\"black\"/>\n",
       "</g>\n",
       "<!-- 2145923485480 -->\n",
       "<g class=\"node\" id=\"node2\"><title>2145923485480</title>\n",
       "<polygon fill=\"none\" points=\"235.5,-219.5 235.5,-255.5 344.5,-255.5 344.5,-219.5 235.5,-219.5\" stroke=\"black\"/>\n",
       "<text font-family=\"Times New Roman,serif\" font-size=\"14.00\" text-anchor=\"middle\" x=\"290\" y=\"-233.8\">Item: InputLayer</text>\n",
       "</g>\n",
       "<!-- 2145923485592 -->\n",
       "<g class=\"node\" id=\"node4\"><title>2145923485592</title>\n",
       "<polygon fill=\"none\" points=\"200.5,-146.5 200.5,-182.5 379.5,-182.5 379.5,-146.5 200.5,-146.5\" stroke=\"black\"/>\n",
       "<text font-family=\"Times New Roman,serif\" font-size=\"14.00\" text-anchor=\"middle\" x=\"290\" y=\"-160.8\">item-Embedding: Embedding</text>\n",
       "</g>\n",
       "<!-- 2145923485480&#45;&gt;2145923485592 -->\n",
       "<g class=\"edge\" id=\"edge2\"><title>2145923485480-&gt;2145923485592</title>\n",
       "<path d=\"M290,-219.313C290,-211.289 290,-201.547 290,-192.569\" fill=\"none\" stroke=\"black\"/>\n",
       "<polygon fill=\"black\" points=\"293.5,-192.529 290,-182.529 286.5,-192.529 293.5,-192.529\" stroke=\"black\"/>\n",
       "</g>\n",
       "<!-- 2145923485424 -->\n",
       "<g class=\"node\" id=\"node5\"><title>2145923485424</title>\n",
       "<polygon fill=\"none\" points=\"50.5,-73.5 50.5,-109.5 181.5,-109.5 181.5,-73.5 50.5,-73.5\" stroke=\"black\"/>\n",
       "<text font-family=\"Times New Roman,serif\" font-size=\"14.00\" text-anchor=\"middle\" x=\"116\" y=\"-87.8\">FlattenUsers: Flatten</text>\n",
       "</g>\n",
       "<!-- 2145924104880&#45;&gt;2145923485424 -->\n",
       "<g class=\"edge\" id=\"edge3\"><title>2145924104880-&gt;2145923485424</title>\n",
       "<path d=\"M97.0518,-146.313C99.9384,-138.115 103.457,-128.123 106.674,-118.985\" fill=\"none\" stroke=\"black\"/>\n",
       "<polygon fill=\"black\" points=\"109.984,-120.124 110.004,-109.529 103.381,-117.799 109.984,-120.124\" stroke=\"black\"/>\n",
       "</g>\n",
       "<!-- 2145924104600 -->\n",
       "<g class=\"node\" id=\"node6\"><title>2145924104600</title>\n",
       "<polygon fill=\"none\" points=\"212.5,-73.5 212.5,-109.5 341.5,-109.5 341.5,-73.5 212.5,-73.5\" stroke=\"black\"/>\n",
       "<text font-family=\"Times New Roman,serif\" font-size=\"14.00\" text-anchor=\"middle\" x=\"277\" y=\"-87.8\">FlattenItems: Flatten</text>\n",
       "</g>\n",
       "<!-- 2145923485592&#45;&gt;2145924104600 -->\n",
       "<g class=\"edge\" id=\"edge4\"><title>2145923485592-&gt;2145924104600</title>\n",
       "<path d=\"M286.853,-146.313C285.384,-138.289 283.6,-128.547 281.956,-119.569\" fill=\"none\" stroke=\"black\"/>\n",
       "<polygon fill=\"black\" points=\"285.362,-118.735 280.118,-109.529 278.476,-119.996 285.362,-118.735\" stroke=\"black\"/>\n",
       "</g>\n",
       "<!-- 2145810027352 -->\n",
       "<g class=\"node\" id=\"node7\"><title>2145810027352</title>\n",
       "<polygon fill=\"none\" points=\"157.5,-0.5 157.5,-36.5 234.5,-36.5 234.5,-0.5 157.5,-0.5\" stroke=\"black\"/>\n",
       "<text font-family=\"Times New Roman,serif\" font-size=\"14.00\" text-anchor=\"middle\" x=\"196\" y=\"-14.8\">dot_2: Dot</text>\n",
       "</g>\n",
       "<!-- 2145923485424&#45;&gt;2145810027352 -->\n",
       "<g class=\"edge\" id=\"edge5\"><title>2145923485424-&gt;2145810027352</title>\n",
       "<path d=\"M135.366,-73.3129C145.487,-64.3302 158.036,-53.1933 169.087,-43.3856\" fill=\"none\" stroke=\"black\"/>\n",
       "<polygon fill=\"black\" points=\"171.657,-45.7845 176.813,-36.5288 167.01,-40.549 171.657,-45.7845\" stroke=\"black\"/>\n",
       "</g>\n",
       "<!-- 2145924104600&#45;&gt;2145810027352 -->\n",
       "<g class=\"edge\" id=\"edge6\"><title>2145924104600-&gt;2145810027352</title>\n",
       "<path d=\"M257.392,-73.3129C247.144,-64.3302 234.439,-53.1933 223.25,-43.3856\" fill=\"none\" stroke=\"black\"/>\n",
       "<polygon fill=\"black\" points=\"225.254,-40.4885 215.427,-36.5288 220.64,-45.7525 225.254,-40.4885\" stroke=\"black\"/>\n",
       "</g>\n",
       "</g>\n",
       "</svg>"
      ],
      "text/plain": [
       "<IPython.core.display.SVG object>"
      ]
     },
     "execution_count": 24,
     "metadata": {},
     "output_type": "execute_result"
    }
   ],
   "source": [
    "from IPython.display import SVG\n",
    "from keras.utils.vis_utils import model_to_dot\n",
    "\n",
    "SVG(model_to_dot(model).create(prog='dot', format='svg'))"
   ]
  },
  {
   "cell_type": "code",
   "execution_count": 30,
   "metadata": {
    "scrolled": true
   },
   "outputs": [
    {
     "name": "stdout",
     "output_type": "stream",
     "text": [
      "Epoch 1/10\n",
      "417454/417454 [==============================] - 66s 158us/step - loss: 158.1771\n",
      "Epoch 2/10\n",
      "417454/417454 [==============================] - 67s 160us/step - loss: 118.5980\n",
      "Epoch 3/10\n",
      "417454/417454 [==============================] - 69s 166us/step - loss: 90.6377\n",
      "Epoch 4/10\n",
      "417454/417454 [==============================] - 67s 162us/step - loss: 75.9322\n",
      "Epoch 5/10\n",
      "417454/417454 [==============================] - 68s 163us/step - loss: 68.1716\n",
      "Epoch 6/10\n",
      "417454/417454 [==============================] - 73s 175us/step - loss: 64.0774\n",
      "Epoch 7/10\n",
      "417454/417454 [==============================] - 75s 181us/step - loss: 61.7620\n",
      "Epoch 8/10\n",
      "417454/417454 [==============================] - 73s 175us/step - loss: 60.3631\n",
      "Epoch 9/10\n",
      "417454/417454 [==============================] - 72s 174us/step - loss: 59.5139\n",
      "Epoch 10/10\n",
      "417454/417454 [==============================] - 70s 168us/step - loss: 58.9550\n"
     ]
    }
   ],
   "source": [
    "history = model.fit([train.user, train.item], train.counts, epochs=10, verbose=1)"
   ]
  },
  {
   "cell_type": "code",
   "execution_count": 31,
   "metadata": {},
   "outputs": [],
   "source": [
    "model.save('models/simpleMatFact.h5')"
   ]
  },
  {
   "cell_type": "markdown",
   "metadata": {},
   "source": [
    "# Validating the Model"
   ]
  },
  {
   "cell_type": "code",
   "execution_count": 35,
   "metadata": {},
   "outputs": [
    {
     "data": {
      "text/plain": [
       "Text(0,0.5,'Train Error')"
      ]
     },
     "execution_count": 35,
     "metadata": {},
     "output_type": "execute_result"
    },
    {
     "data": {
      "image/png": "[encoded data removed]",
      "text/plain": [
       "<Figure size 432x288 with 1 Axes>"
      ]
     },
     "metadata": {},
     "output_type": "display_data"
    }
   ],
   "source": [
    "import matplotlib.pyplot as plt \n",
    "pd.Series(history.history['loss']).plot(logy=True)\n",
    "plt.xlabel(\"Epoch\")\n",
    "plt.ylabel(\"Train Error\")"
   ]
  },
  {
   "cell_type": "code",
   "execution_count": 36,
   "metadata": {},
   "outputs": [],
   "source": [
    "y_hat = (model.predict([test.user, test.item]))\n",
    "y_true = test.counts"
   ]
  },
  {
   "cell_type": "code",
   "execution_count": 37,
   "metadata": {},
   "outputs": [
    {
     "data": {
      "text/plain": [
       "5.260057699427625"
      ]
     },
     "execution_count": 37,
     "metadata": {},
     "output_type": "execute_result"
    }
   ],
   "source": [
    "from sklearn.metrics import mean_absolute_error\n",
    "mean_absolute_error(y_true, y_hat)"
   ]
  },
  {
   "cell_type": "markdown",
   "metadata": {},
   "source": [
    "# non negative Matrix Factorization\n"
   ]
  },
  {
   "cell_type": "code",
   "execution_count": 115,
   "metadata": {},
   "outputs": [],
   "source": [
    "from keras.constraints import non_neg\n",
    "item_input = keras.layers.Input(shape=[1],name='Item')\n",
    "item_embedding = keras.layers.Embedding(n_item + 1, n_latent_factors, name='item-Embedding')(item_input)\n",
    "item_vec = keras.layers.Flatten(name='FlattenItems')(item_embedding)\n",
    "user_input = keras.layers.Input(shape=[1],name='User')\n",
    "user_vec = keras.layers.Flatten(name='FlattenUsers')(keras.layers.Embedding(n_users + 1, n_latent_factors,name='User-Embedding',embeddings_constraint=non_neg())(user_input))\n",
    "prod = keras.layers.dot([item_vec, user_vec],axes=1)\n",
    "model = keras.Model([user_input, item_input], prod)\n",
    "model.compile('adam', 'mean_squared_error')"
   ]
  },
  {
   "cell_type": "code",
   "execution_count": 116,
   "metadata": {},
   "outputs": [
    {
     "data": {
      "image/svg+xml": [
       "<svg height=\"264pt\" viewBox=\"0.00 0.00 387.50 264.00\" width=\"388pt\" xmlns=\"http://www.w3.org/2000/svg\" xmlns:xlink=\"http://www.w3.org/1999/xlink\">\n",
       "<g class=\"graph\" id=\"graph0\" transform=\"scale(1 1) rotate(0) translate(4 260)\">\n",
       "<title>G</title>\n",
       "<polygon fill=\"white\" points=\"-4,4 -4,-260 383.5,-260 383.5,4 -4,4\" stroke=\"none\"/>\n",
       "<!-- 2145844472184 -->\n",
       "<g class=\"node\" id=\"node1\"><title>2145844472184</title>\n",
       "<polygon fill=\"none\" points=\"35,-219.5 35,-255.5 144,-255.5 144,-219.5 35,-219.5\" stroke=\"black\"/>\n",
       "<text font-family=\"Times New Roman,serif\" font-size=\"14.00\" text-anchor=\"middle\" x=\"89.5\" y=\"-233.8\">Item: InputLayer</text>\n",
       "</g>\n",
       "<!-- 2145844472296 -->\n",
       "<g class=\"node\" id=\"node3\"><title>2145844472296</title>\n",
       "<polygon fill=\"none\" points=\"0,-146.5 0,-182.5 179,-182.5 179,-146.5 0,-146.5\" stroke=\"black\"/>\n",
       "<text font-family=\"Times New Roman,serif\" font-size=\"14.00\" text-anchor=\"middle\" x=\"89.5\" y=\"-160.8\">item-Embedding: Embedding</text>\n",
       "</g>\n",
       "<!-- 2145844472184&#45;&gt;2145844472296 -->\n",
       "<g class=\"edge\" id=\"edge1\"><title>2145844472184-&gt;2145844472296</title>\n",
       "<path d=\"M89.5,-219.313C89.5,-211.289 89.5,-201.547 89.5,-192.569\" fill=\"none\" stroke=\"black\"/>\n",
       "<polygon fill=\"black\" points=\"93.0001,-192.529 89.5,-182.529 86.0001,-192.529 93.0001,-192.529\" stroke=\"black\"/>\n",
       "</g>\n",
       "<!-- 2145844472240 -->\n",
       "<g class=\"node\" id=\"node2\"><title>2145844472240</title>\n",
       "<polygon fill=\"none\" points=\"233.5,-219.5 233.5,-255.5 343.5,-255.5 343.5,-219.5 233.5,-219.5\" stroke=\"black\"/>\n",
       "<text font-family=\"Times New Roman,serif\" font-size=\"14.00\" text-anchor=\"middle\" x=\"288.5\" y=\"-233.8\">User: InputLayer</text>\n",
       "</g>\n",
       "<!-- 2145844472632 -->\n",
       "<g class=\"node\" id=\"node4\"><title>2145844472632</title>\n",
       "<polygon fill=\"none\" points=\"197.5,-146.5 197.5,-182.5 379.5,-182.5 379.5,-146.5 197.5,-146.5\" stroke=\"black\"/>\n",
       "<text font-family=\"Times New Roman,serif\" font-size=\"14.00\" text-anchor=\"middle\" x=\"288.5\" y=\"-160.8\">User-Embedding: Embedding</text>\n",
       "</g>\n",
       "<!-- 2145844472240&#45;&gt;2145844472632 -->\n",
       "<g class=\"edge\" id=\"edge2\"><title>2145844472240-&gt;2145844472632</title>\n",
       "<path d=\"M288.5,-219.313C288.5,-211.289 288.5,-201.547 288.5,-192.569\" fill=\"none\" stroke=\"black\"/>\n",
       "<polygon fill=\"black\" points=\"292,-192.529 288.5,-182.529 285,-192.529 292,-192.529\" stroke=\"black\"/>\n",
       "</g>\n",
       "<!-- 2145844473080 -->\n",
       "<g class=\"node\" id=\"node5\"><title>2145844473080</title>\n",
       "<polygon fill=\"none\" points=\"50,-73.5 50,-109.5 179,-109.5 179,-73.5 50,-73.5\" stroke=\"black\"/>\n",
       "<text font-family=\"Times New Roman,serif\" font-size=\"14.00\" text-anchor=\"middle\" x=\"114.5\" y=\"-87.8\">FlattenItems: Flatten</text>\n",
       "</g>\n",
       "<!-- 2145844472296&#45;&gt;2145844473080 -->\n",
       "<g class=\"edge\" id=\"edge3\"><title>2145844472296-&gt;2145844473080</title>\n",
       "<path d=\"M95.5518,-146.313C98.4384,-138.115 101.957,-128.123 105.174,-118.985\" fill=\"none\" stroke=\"black\"/>\n",
       "<polygon fill=\"black\" points=\"108.484,-120.124 108.504,-109.529 101.881,-117.799 108.484,-120.124\" stroke=\"black\"/>\n",
       "</g>\n",
       "<!-- 2145844472408 -->\n",
       "<g class=\"node\" id=\"node6\"><title>2145844472408</title>\n",
       "<polygon fill=\"none\" points=\"210,-73.5 210,-109.5 341,-109.5 341,-73.5 210,-73.5\" stroke=\"black\"/>\n",
       "<text font-family=\"Times New Roman,serif\" font-size=\"14.00\" text-anchor=\"middle\" x=\"275.5\" y=\"-87.8\">FlattenUsers: Flatten</text>\n",
       "</g>\n",
       "<!-- 2145844472632&#45;&gt;2145844472408 -->\n",
       "<g class=\"edge\" id=\"edge4\"><title>2145844472632-&gt;2145844472408</title>\n",
       "<path d=\"M285.353,-146.313C283.884,-138.289 282.1,-128.547 280.456,-119.569\" fill=\"none\" stroke=\"black\"/>\n",
       "<polygon fill=\"black\" points=\"283.862,-118.735 278.618,-109.529 276.976,-119.996 283.862,-118.735\" stroke=\"black\"/>\n",
       "</g>\n",
       "<!-- 2145844472520 -->\n",
       "<g class=\"node\" id=\"node7\"><title>2145844472520</title>\n",
       "<polygon fill=\"none\" points=\"156,-0.5 156,-36.5 233,-36.5 233,-0.5 156,-0.5\" stroke=\"black\"/>\n",
       "<text font-family=\"Times New Roman,serif\" font-size=\"14.00\" text-anchor=\"middle\" x=\"194.5\" y=\"-14.8\">dot_5: Dot</text>\n",
       "</g>\n",
       "<!-- 2145844473080&#45;&gt;2145844472520 -->\n",
       "<g class=\"edge\" id=\"edge5\"><title>2145844473080-&gt;2145844472520</title>\n",
       "<path d=\"M133.866,-73.3129C143.987,-64.3302 156.536,-53.1933 167.587,-43.3856\" fill=\"none\" stroke=\"black\"/>\n",
       "<polygon fill=\"black\" points=\"170.157,-45.7845 175.313,-36.5288 165.51,-40.549 170.157,-45.7845\" stroke=\"black\"/>\n",
       "</g>\n",
       "<!-- 2145844472408&#45;&gt;2145844472520 -->\n",
       "<g class=\"edge\" id=\"edge6\"><title>2145844472408-&gt;2145844472520</title>\n",
       "<path d=\"M255.892,-73.3129C245.644,-64.3302 232.939,-53.1933 221.75,-43.3856\" fill=\"none\" stroke=\"black\"/>\n",
       "<polygon fill=\"black\" points=\"223.754,-40.4885 213.927,-36.5288 219.14,-45.7525 223.754,-40.4885\" stroke=\"black\"/>\n",
       "</g>\n",
       "</g>\n",
       "</svg>"
      ],
      "text/plain": [
       "<IPython.core.display.SVG object>"
      ]
     },
     "execution_count": 116,
     "metadata": {},
     "output_type": "execute_result"
    }
   ],
   "source": [
    "from IPython.display import SVG\n",
    "from keras.utils.vis_utils import model_to_dot\n",
    "from keras.utils import plot_model\n",
    "plot_model(model, to_file='Mat Fact.png')\n",
    "SVG(model_to_dot(model).create(prog='dot', format='svg'))"
   ]
  },
  {
   "cell_type": "code",
   "execution_count": 41,
   "metadata": {
    "collapsed": true
   },
   "outputs": [
    {
     "name": "stdout",
     "output_type": "stream",
     "text": [
      "Epoch 1/10\n",
      "417454/417454 [==============================] - 77s 184us/step - loss: 150.6170\n",
      "Epoch 2/10\n",
      "417454/417454 [==============================] - 73s 176us/step - loss: 110.6814\n",
      "Epoch 3/10\n",
      "417454/417454 [==============================] - 73s 174us/step - loss: 86.3512\n",
      "Epoch 4/10\n",
      "417454/417454 [==============================] - 75s 180us/step - loss: 73.9212\n",
      "Epoch 5/10\n",
      "417454/417454 [==============================] - 75s 180us/step - loss: 67.2646\n",
      "Epoch 6/10\n",
      "417454/417454 [==============================] - 73s 176us/step - loss: 63.7747\n",
      "Epoch 7/10\n",
      "417454/417454 [==============================] - 73s 176us/step - loss: 61.6709\n",
      "Epoch 8/10\n",
      "417454/417454 [==============================] - 75s 180us/step - loss: 60.4502\n",
      "Epoch 9/10\n",
      "417454/417454 [==============================] - 72s 171us/step - loss: 59.8992\n",
      "Epoch 10/10\n",
      "417454/417454 [==============================] - 70s 168us/step - loss: 59.2537\n"
     ]
    }
   ],
   "source": [
    "history = model.fit([train.user, train.item], train.counts, epochs=10, verbose=1)"
   ]
  },
  {
   "cell_type": "code",
   "execution_count": 42,
   "metadata": {},
   "outputs": [],
   "source": [
    "model.save('models/NonNegMatFact.h5')"
   ]
  },
  {
   "cell_type": "code",
   "execution_count": 43,
   "metadata": {},
   "outputs": [
    {
     "data": {
      "text/plain": [
       "5.157693350041778"
      ]
     },
     "execution_count": 43,
     "metadata": {},
     "output_type": "execute_result"
    }
   ],
   "source": [
    "y_hat = (model.predict([test.user, test.item]))\n",
    "y_true = test.counts\n",
    "from sklearn.metrics import mean_absolute_error\n",
    "mean_absolute_error(y_true, y_hat)"
   ]
  },
  {
   "cell_type": "markdown",
   "metadata": {},
   "source": [
    "# Using Neural Networks"
   ]
  },
  {
   "cell_type": "code",
   "execution_count": 14,
   "metadata": {},
   "outputs": [],
   "source": [
    "n_latent_factors_user = 5\n",
    "n_latent_factors_item = 8\n",
    "\n",
    "item_input = keras.layers.Input(shape=[1],name='Item')\n",
    "item_embedding = keras.layers.Embedding(n_item + 1, n_latent_factors_item, name='item-Embedding')(item_input)\n",
    "item_vec = keras.layers.Flatten(name='FlattenMovies')(item_embedding)\n",
    "item_vec = keras.layers.Dropout(0.2)(item_vec)\n",
    "\n",
    "\n",
    "user_input = keras.layers.Input(shape=[1],name='User')\n",
    "user_vec = keras.layers.Flatten(name='FlattenUsers')(keras.layers.Embedding(n_users + 1, n_latent_factors_user,name='User-Embedding')(user_input))\n",
    "user_vec = keras.layers.Dropout(0.2)(user_vec)\n",
    "\n",
    "\n",
    "concat = keras.layers.concatenate([item_vec, user_vec],name='Concat')\n",
    "concat_dropout = keras.layers.Dropout(0.2)(concat)\n",
    "dense = keras.layers.Dense(200,name='FullyConnected',activation='softmax')(concat)\n",
    "dropout_1 = keras.layers.Dropout(0.2,name='Dropout')(dense)\n",
    "dense_2 = keras.layers.Dense(100,name='FullyConnected-1',activation='softmax')(concat)\n",
    "dropout_2 = keras.layers.Dropout(0.2,name='Dropout')(dense_2)\n",
    "dense_3 = keras.layers.Dense(50,name='FullyConnected-2',activation='softmax')(dense_2)\n",
    "dropout_3 = keras.layers.Dropout(0.2,name='Dropout')(dense_3)\n",
    "dense_4 = keras.layers.Dense(20,name='FullyConnected-3', activation='softmax')(dense_3)\n",
    "\n",
    "\n",
    "result = keras.layers.Dense(1, activation='softmax',name='Activation')(dense_4)\n",
    "adam = Adam(lr=0.005)\n",
    "model = keras.Model([user_input, item_input], result)\n",
    "model.compile(optimizer=adam,loss= 'mean_absolute_error',metrics=['accuracy'])"
   ]
  },
  {
   "cell_type": "code",
   "execution_count": 15,
   "metadata": {},
   "outputs": [
    {
     "data": {
      "image/svg+xml": [
       "<svg height=\"629pt\" viewBox=\"0.00 0.00 387.50 629.00\" width=\"388pt\" xmlns=\"http://www.w3.org/2000/svg\" xmlns:xlink=\"http://www.w3.org/1999/xlink\">\n",
       "<g class=\"graph\" id=\"graph0\" transform=\"scale(1 1) rotate(0) translate(4 625)\">\n",
       "<title>G</title>\n",
       "<polygon fill=\"white\" points=\"-4,4 -4,-625 383.5,-625 383.5,4 -4,4\" stroke=\"none\"/>\n",
       "<!-- 1958852795584 -->\n",
       "<g class=\"node\" id=\"node1\"><title>1958852795584</title>\n",
       "<polygon fill=\"none\" points=\"35,-584.5 35,-620.5 144,-620.5 144,-584.5 35,-584.5\" stroke=\"black\"/>\n",
       "<text font-family=\"Times New Roman,serif\" font-size=\"14.00\" text-anchor=\"middle\" x=\"89.5\" y=\"-598.8\">Item: InputLayer</text>\n",
       "</g>\n",
       "<!-- 1958852795360 -->\n",
       "<g class=\"node\" id=\"node3\"><title>1958852795360</title>\n",
       "<polygon fill=\"none\" points=\"0,-511.5 0,-547.5 179,-547.5 179,-511.5 0,-511.5\" stroke=\"black\"/>\n",
       "<text font-family=\"Times New Roman,serif\" font-size=\"14.00\" text-anchor=\"middle\" x=\"89.5\" y=\"-525.8\">item-Embedding: Embedding</text>\n",
       "</g>\n",
       "<!-- 1958852795584&#45;&gt;1958852795360 -->\n",
       "<g class=\"edge\" id=\"edge1\"><title>1958852795584-&gt;1958852795360</title>\n",
       "<path d=\"M89.5,-584.313C89.5,-576.289 89.5,-566.547 89.5,-557.569\" fill=\"none\" stroke=\"black\"/>\n",
       "<polygon fill=\"black\" points=\"93.0001,-557.529 89.5,-547.529 86.0001,-557.529 93.0001,-557.529\" stroke=\"black\"/>\n",
       "</g>\n",
       "<!-- 1958684248720 -->\n",
       "<g class=\"node\" id=\"node2\"><title>1958684248720</title>\n",
       "<polygon fill=\"none\" points=\"233.5,-584.5 233.5,-620.5 343.5,-620.5 343.5,-584.5 233.5,-584.5\" stroke=\"black\"/>\n",
       "<text font-family=\"Times New Roman,serif\" font-size=\"14.00\" text-anchor=\"middle\" x=\"288.5\" y=\"-598.8\">User: InputLayer</text>\n",
       "</g>\n",
       "<!-- 1958852794856 -->\n",
       "<g class=\"node\" id=\"node4\"><title>1958852794856</title>\n",
       "<polygon fill=\"none\" points=\"197.5,-511.5 197.5,-547.5 379.5,-547.5 379.5,-511.5 197.5,-511.5\" stroke=\"black\"/>\n",
       "<text font-family=\"Times New Roman,serif\" font-size=\"14.00\" text-anchor=\"middle\" x=\"288.5\" y=\"-525.8\">User-Embedding: Embedding</text>\n",
       "</g>\n",
       "<!-- 1958684248720&#45;&gt;1958852794856 -->\n",
       "<g class=\"edge\" id=\"edge2\"><title>1958684248720-&gt;1958852794856</title>\n",
       "<path d=\"M288.5,-584.313C288.5,-576.289 288.5,-566.547 288.5,-557.569\" fill=\"none\" stroke=\"black\"/>\n",
       "<polygon fill=\"black\" points=\"292,-557.529 288.5,-547.529 285,-557.529 292,-557.529\" stroke=\"black\"/>\n",
       "</g>\n",
       "<!-- 1958867555328 -->\n",
       "<g class=\"node\" id=\"node5\"><title>1958867555328</title>\n",
       "<polygon fill=\"none\" points=\"41.5,-438.5 41.5,-474.5 181.5,-474.5 181.5,-438.5 41.5,-438.5\" stroke=\"black\"/>\n",
       "<text font-family=\"Times New Roman,serif\" font-size=\"14.00\" text-anchor=\"middle\" x=\"111.5\" y=\"-452.8\">FlattenMovies: Flatten</text>\n",
       "</g>\n",
       "<!-- 1958852795360&#45;&gt;1958867555328 -->\n",
       "<g class=\"edge\" id=\"edge3\"><title>1958852795360-&gt;1958867555328</title>\n",
       "<path d=\"M94.8256,-511.313C97.3387,-503.202 100.396,-493.336 103.203,-484.277\" fill=\"none\" stroke=\"black\"/>\n",
       "<polygon fill=\"black\" points=\"106.607,-485.117 106.223,-474.529 99.9204,-483.045 106.607,-485.117\" stroke=\"black\"/>\n",
       "</g>\n",
       "<!-- 1958753061352 -->\n",
       "<g class=\"node\" id=\"node6\"><title>1958753061352</title>\n",
       "<polygon fill=\"none\" points=\"211,-438.5 211,-474.5 342,-474.5 342,-438.5 211,-438.5\" stroke=\"black\"/>\n",
       "<text font-family=\"Times New Roman,serif\" font-size=\"14.00\" text-anchor=\"middle\" x=\"276.5\" y=\"-452.8\">FlattenUsers: Flatten</text>\n",
       "</g>\n",
       "<!-- 1958852794856&#45;&gt;1958753061352 -->\n",
       "<g class=\"edge\" id=\"edge4\"><title>1958852794856-&gt;1958753061352</title>\n",
       "<path d=\"M285.595,-511.313C284.239,-503.289 282.593,-493.547 281.075,-484.569\" fill=\"none\" stroke=\"black\"/>\n",
       "<polygon fill=\"black\" points=\"284.496,-483.806 279.378,-474.529 277.594,-484.972 284.496,-483.806\" stroke=\"black\"/>\n",
       "</g>\n",
       "<!-- 1958685388752 -->\n",
       "<g class=\"node\" id=\"node7\"><title>1958685388752</title>\n",
       "<polygon fill=\"none\" points=\"54.5,-365.5 54.5,-401.5 184.5,-401.5 184.5,-365.5 54.5,-365.5\" stroke=\"black\"/>\n",
       "<text font-family=\"Times New Roman,serif\" font-size=\"14.00\" text-anchor=\"middle\" x=\"119.5\" y=\"-379.8\">dropout_4: Dropout</text>\n",
       "</g>\n",
       "<!-- 1958867555328&#45;&gt;1958685388752 -->\n",
       "<g class=\"edge\" id=\"edge5\"><title>1958867555328-&gt;1958685388752</title>\n",
       "<path d=\"M113.437,-438.313C114.341,-430.289 115.438,-420.547 116.45,-411.569\" fill=\"none\" stroke=\"black\"/>\n",
       "<polygon fill=\"black\" points=\"119.939,-411.858 117.581,-401.529 112.984,-411.074 119.939,-411.858\" stroke=\"black\"/>\n",
       "</g>\n",
       "<!-- 1958685386568 -->\n",
       "<g class=\"node\" id=\"node8\"><title>1958685386568</title>\n",
       "<polygon fill=\"none\" points=\"206.5,-365.5 206.5,-401.5 336.5,-401.5 336.5,-365.5 206.5,-365.5\" stroke=\"black\"/>\n",
       "<text font-family=\"Times New Roman,serif\" font-size=\"14.00\" text-anchor=\"middle\" x=\"271.5\" y=\"-379.8\">dropout_5: Dropout</text>\n",
       "</g>\n",
       "<!-- 1958753061352&#45;&gt;1958685386568 -->\n",
       "<g class=\"edge\" id=\"edge6\"><title>1958753061352-&gt;1958685386568</title>\n",
       "<path d=\"M275.29,-438.313C274.725,-430.289 274.039,-420.547 273.406,-411.569\" fill=\"none\" stroke=\"black\"/>\n",
       "<polygon fill=\"black\" points=\"276.893,-411.258 272.699,-401.529 269.91,-411.75 276.893,-411.258\" stroke=\"black\"/>\n",
       "</g>\n",
       "<!-- 1958852794240 -->\n",
       "<g class=\"node\" id=\"node9\"><title>1958852794240</title>\n",
       "<polygon fill=\"none\" points=\"129,-292.5 129,-328.5 262,-328.5 262,-292.5 129,-292.5\" stroke=\"black\"/>\n",
       "<text font-family=\"Times New Roman,serif\" font-size=\"14.00\" text-anchor=\"middle\" x=\"195.5\" y=\"-306.8\">Concat: Concatenate</text>\n",
       "</g>\n",
       "<!-- 1958685388752&#45;&gt;1958852794240 -->\n",
       "<g class=\"edge\" id=\"edge7\"><title>1958685388752-&gt;1958852794240</title>\n",
       "<path d=\"M137.897,-365.313C147.513,-356.33 159.434,-345.193 169.932,-335.386\" fill=\"none\" stroke=\"black\"/>\n",
       "<polygon fill=\"black\" points=\"172.354,-337.913 177.272,-328.529 167.575,-332.798 172.354,-337.913\" stroke=\"black\"/>\n",
       "</g>\n",
       "<!-- 1958685386568&#45;&gt;1958852794240 -->\n",
       "<g class=\"edge\" id=\"edge8\"><title>1958685386568-&gt;1958852794240</title>\n",
       "<path d=\"M253.103,-365.313C243.487,-356.33 231.566,-345.193 221.068,-335.386\" fill=\"none\" stroke=\"black\"/>\n",
       "<polygon fill=\"black\" points=\"223.425,-332.798 213.728,-328.529 218.646,-337.913 223.425,-332.798\" stroke=\"black\"/>\n",
       "</g>\n",
       "<!-- 1958747488040 -->\n",
       "<g class=\"node\" id=\"node10\"><title>1958747488040</title>\n",
       "<polygon fill=\"none\" points=\"116.5,-219.5 116.5,-255.5 274.5,-255.5 274.5,-219.5 116.5,-219.5\" stroke=\"black\"/>\n",
       "<text font-family=\"Times New Roman,serif\" font-size=\"14.00\" text-anchor=\"middle\" x=\"195.5\" y=\"-233.8\">FullyConnected-1: Dense</text>\n",
       "</g>\n",
       "<!-- 1958852794240&#45;&gt;1958747488040 -->\n",
       "<g class=\"edge\" id=\"edge9\"><title>1958852794240-&gt;1958747488040</title>\n",
       "<path d=\"M195.5,-292.313C195.5,-284.289 195.5,-274.547 195.5,-265.569\" fill=\"none\" stroke=\"black\"/>\n",
       "<polygon fill=\"black\" points=\"199,-265.529 195.5,-255.529 192,-265.529 199,-265.529\" stroke=\"black\"/>\n",
       "</g>\n",
       "<!-- 1958752082464 -->\n",
       "<g class=\"node\" id=\"node11\"><title>1958752082464</title>\n",
       "<polygon fill=\"none\" points=\"116.5,-146.5 116.5,-182.5 274.5,-182.5 274.5,-146.5 116.5,-146.5\" stroke=\"black\"/>\n",
       "<text font-family=\"Times New Roman,serif\" font-size=\"14.00\" text-anchor=\"middle\" x=\"195.5\" y=\"-160.8\">FullyConnected-2: Dense</text>\n",
       "</g>\n",
       "<!-- 1958747488040&#45;&gt;1958752082464 -->\n",
       "<g class=\"edge\" id=\"edge10\"><title>1958747488040-&gt;1958752082464</title>\n",
       "<path d=\"M195.5,-219.313C195.5,-211.289 195.5,-201.547 195.5,-192.569\" fill=\"none\" stroke=\"black\"/>\n",
       "<polygon fill=\"black\" points=\"199,-192.529 195.5,-182.529 192,-192.529 199,-192.529\" stroke=\"black\"/>\n",
       "</g>\n",
       "<!-- 1958717663552 -->\n",
       "<g class=\"node\" id=\"node12\"><title>1958717663552</title>\n",
       "<polygon fill=\"none\" points=\"116.5,-73.5 116.5,-109.5 274.5,-109.5 274.5,-73.5 116.5,-73.5\" stroke=\"black\"/>\n",
       "<text font-family=\"Times New Roman,serif\" font-size=\"14.00\" text-anchor=\"middle\" x=\"195.5\" y=\"-87.8\">FullyConnected-3: Dense</text>\n",
       "</g>\n",
       "<!-- 1958752082464&#45;&gt;1958717663552 -->\n",
       "<g class=\"edge\" id=\"edge11\"><title>1958752082464-&gt;1958717663552</title>\n",
       "<path d=\"M195.5,-146.313C195.5,-138.289 195.5,-128.547 195.5,-119.569\" fill=\"none\" stroke=\"black\"/>\n",
       "<polygon fill=\"black\" points=\"199,-119.529 195.5,-109.529 192,-119.529 199,-119.529\" stroke=\"black\"/>\n",
       "</g>\n",
       "<!-- 1958717664952 -->\n",
       "<g class=\"node\" id=\"node13\"><title>1958717664952</title>\n",
       "<polygon fill=\"none\" points=\"138,-0.5 138,-36.5 253,-36.5 253,-0.5 138,-0.5\" stroke=\"black\"/>\n",
       "<text font-family=\"Times New Roman,serif\" font-size=\"14.00\" text-anchor=\"middle\" x=\"195.5\" y=\"-14.8\">Activation: Dense</text>\n",
       "</g>\n",
       "<!-- 1958717663552&#45;&gt;1958717664952 -->\n",
       "<g class=\"edge\" id=\"edge12\"><title>1958717663552-&gt;1958717664952</title>\n",
       "<path d=\"M195.5,-73.3129C195.5,-65.2895 195.5,-55.5475 195.5,-46.5691\" fill=\"none\" stroke=\"black\"/>\n",
       "<polygon fill=\"black\" points=\"199,-46.5288 195.5,-36.5288 192,-46.5289 199,-46.5288\" stroke=\"black\"/>\n",
       "</g>\n",
       "</g>\n",
       "</svg>"
      ],
      "text/plain": [
       "<IPython.core.display.SVG object>"
      ]
     },
     "execution_count": 15,
     "metadata": {},
     "output_type": "execute_result"
    }
   ],
   "source": [
    "from IPython.display import SVG\n",
    "from keras.utils.vis_utils import model_to_dot\n",
    "from keras.utils import plot_model\n",
    "plot_model(model, to_file='neural.png')\n",
    "SVG(model_to_dot(model).create(prog='dot', format='svg'))"
   ]
  },
  {
   "cell_type": "code",
   "execution_count": 16,
   "metadata": {},
   "outputs": [
    {
     "name": "stdout",
     "output_type": "stream",
     "text": [
      "__________________________________________________________________________________________________\n",
      "Layer (type)                    Output Shape         Param #     Connected to                     \n",
      "==================================================================================================\n",
      "Item (InputLayer)               (None, 1)            0                                            \n",
      "__________________________________________________________________________________________________\n",
      "User (InputLayer)               (None, 1)            0                                            \n",
      "__________________________________________________________________________________________________\n",
      "item-Embedding (Embedding)      (None, 1, 8)         2624        Item[0][0]                       \n",
      "__________________________________________________________________________________________________\n",
      "User-Embedding (Embedding)      (None, 1, 5)         672905      User[0][0]                       \n",
      "__________________________________________________________________________________________________\n",
      "FlattenMovies (Flatten)         (None, 8)            0           item-Embedding[0][0]             \n",
      "__________________________________________________________________________________________________\n",
      "FlattenUsers (Flatten)          (None, 5)            0           User-Embedding[0][0]             \n",
      "__________________________________________________________________________________________________\n",
      "dropout_4 (Dropout)             (None, 8)            0           FlattenMovies[0][0]              \n",
      "__________________________________________________________________________________________________\n",
      "dropout_5 (Dropout)             (None, 5)            0           FlattenUsers[0][0]               \n",
      "__________________________________________________________________________________________________\n",
      "Concat (Concatenate)            (None, 13)           0           dropout_4[0][0]                  \n",
      "                                                                 dropout_5[0][0]                  \n",
      "__________________________________________________________________________________________________\n",
      "FullyConnected-1 (Dense)        (None, 100)          1400        Concat[0][0]                     \n",
      "__________________________________________________________________________________________________\n",
      "FullyConnected-2 (Dense)        (None, 50)           5050        FullyConnected-1[0][0]           \n",
      "__________________________________________________________________________________________________\n",
      "FullyConnected-3 (Dense)        (None, 20)           1020        FullyConnected-2[0][0]           \n",
      "__________________________________________________________________________________________________\n",
      "Activation (Dense)              (None, 1)            21          FullyConnected-3[0][0]           \n",
      "==================================================================================================\n",
      "Total params: 683,020\n",
      "Trainable params: 683,020\n",
      "Non-trainable params: 0\n",
      "__________________________________________________________________________________________________\n"
     ]
    }
   ],
   "source": [
    "model.summary()"
   ]
  },
  {
   "cell_type": "code",
   "execution_count": null,
   "metadata": {},
   "outputs": [
    {
     "name": "stdout",
     "output_type": "stream",
     "text": [
      "Train on 375708 samples, validate on 41746 samples\n",
      "Epoch 1/10\n",
      "375708/375708 [==============================] - 93s 249us/step - loss: 5.3886 - acc: 0.3672 - val_loss: 5.4866 - val_acc: 0.3677\n",
      "Epoch 2/10\n",
      "375708/375708 [==============================] - 85s 227us/step - loss: 5.3886 - acc: 0.3672 - val_loss: 5.4866 - val_acc: 0.3677\n",
      "Epoch 3/10\n",
      "375708/375708 [==============================] - 85s 226us/step - loss: 5.3886 - acc: 0.3672 - val_loss: 5.4866 - val_acc: 0.3677\n",
      "Epoch 4/10\n",
      "375708/375708 [==============================] - 84s 224us/step - loss: 5.3886 - acc: 0.3672 - val_loss: 5.4866 - val_acc: 0.3677\n",
      "Epoch 5/10\n",
      "279328/375708 [=====================>........] - ETA: 27s - loss: 5.4058 - acc: 0.3675"
     ]
    }
   ],
   "source": [
    "history = model.fit([train.user, train.item], train.counts, epochs=10, verbose=1,validation_split=.1,)"
   ]
  },
  {
   "cell_type": "code",
   "execution_count": 46,
   "metadata": {},
   "outputs": [],
   "source": [
    "model.save('models/neural.h5')"
   ]
  },
  {
   "cell_type": "code",
   "execution_count": 47,
   "metadata": {
    "scrolled": true
   },
   "outputs": [
    {
     "data": {
      "text/plain": [
       "5.367780077421333"
      ]
     },
     "execution_count": 47,
     "metadata": {},
     "output_type": "execute_result"
    }
   ],
   "source": [
    "y_hat = (model.predict([test.user, test.item]))\n",
    "y_true = test.counts\n",
    "from sklearn.metrics import mean_absolute_error\n",
    "mean_absolute_error(y_true, y_hat)"
   ]
  }
 ],
 "metadata": {
  "kernelspec": {
   "display_name": "Python 3",
   "language": "python",
   "name": "python3"
  },
  "language_info": {
   "codemirror_mode": {
    "name": "ipython",
    "version": 3
   },
   "file_extension": ".py",
   "mimetype": "text/x-python",
   "name": "python",
   "nbconvert_exporter": "python",
   "pygments_lexer": "ipython3",
   "version": "3.6.7"
  }
 },
 "nbformat": 4,
 "nbformat_minor": 2
}
